{
 "cells": [
  {
   "cell_type": "markdown",
   "id": "465945cb",
   "metadata": {},
   "source": [
    "# Using pyRAPL to measure energy consumption"
   ]
  },
  {
   "cell_type": "markdown",
   "id": "dcc4cb8a",
   "metadata": {},
   "source": [
    "Actually quite simple! Unfortunately, pyRAPL is not compatible with MacOS so this should be runned on a server. The code will then look something like this:"
   ]
  },
  {
   "cell_type": "code",
   "execution_count": null,
   "id": "818cf8be",
   "metadata": {},
   "outputs": [],
   "source": [
    "import pyRAPL\n",
    "\n",
    "def measurement(k, iterations, input_file, class_name, suppression, data_type, dataset): \n",
    "    # init settings pyRAPL\n",
    "    pyRAPL.setup()\n",
    "    csv_output = pyRAPL.outputs.CSVOutput(\"Energy_measurement.csv\")\n",
    "\n",
    "    @pyRAPL.measureit(output=csv_output, number=1)\n",
    "    def Energy_consumption():\n",
    "        # run our file, in this case ARX\n",
    "        subprocess.run(['sudo', 'java', '-cp', '.:libraries/*', class_name, \n",
    "                        str(k), input_file, str(suppression), dataset], capture_output=False)\n",
    "\n",
    "    # we wish to perform an n amount of measurements such that we can compute the weighted average\n",
    "    for _ in range(iterations + 1):\n",
    "        Energy_consumption()\n",
    "        print(f\"Measurement { _ + 1} out of {iterations} completed.\")\n",
    "    \n",
    "    # save the measurements in our csv file\n",
    "    csv_output.save()\n",
    "\n",
    "\n",
    "if __name__ == '__main__':\n",
    "\n",
    "    # perform measurement\n",
    "    measurement(k, int(data[\"iterations\"]), data[\"input_file\"], data[\"class_name\"], \n",
    "                        data[\"suppression_limit\"], data[\"type\"], data[\"data_set\"])"
   ]
  },
  {
   "cell_type": "markdown",
   "id": "d17e69a3",
   "metadata": {},
   "source": [
    "## Then the output will look something like this"
   ]
  },
  {
   "cell_type": "code",
   "execution_count": 1,
   "id": "9046021a",
   "metadata": {},
   "outputs": [
    {
     "data": {
      "text/html": [
       "<div>\n",
       "<style scoped>\n",
       "    .dataframe tbody tr th:only-of-type {\n",
       "        vertical-align: middle;\n",
       "    }\n",
       "\n",
       "    .dataframe tbody tr th {\n",
       "        vertical-align: top;\n",
       "    }\n",
       "\n",
       "    .dataframe thead th {\n",
       "        text-align: right;\n",
       "    }\n",
       "</style>\n",
       "<table border=\"1\" class=\"dataframe\">\n",
       "  <thead>\n",
       "    <tr style=\"text-align: right;\">\n",
       "      <th></th>\n",
       "      <th>label</th>\n",
       "      <th>timestamp</th>\n",
       "      <th>duration</th>\n",
       "      <th>pkg</th>\n",
       "      <th>dram</th>\n",
       "      <th>socket</th>\n",
       "    </tr>\n",
       "  </thead>\n",
       "  <tbody>\n",
       "    <tr>\n",
       "      <th>0</th>\n",
       "      <td>Adult</td>\n",
       "      <td>1.653231e+09</td>\n",
       "      <td>9983915.060</td>\n",
       "      <td>141723026.0</td>\n",
       "      <td>25520553.0</td>\n",
       "      <td>0</td>\n",
       "    </tr>\n",
       "    <tr>\n",
       "      <th>1</th>\n",
       "      <td>Adult</td>\n",
       "      <td>1.653231e+09</td>\n",
       "      <td>9737717.851</td>\n",
       "      <td>132242459.0</td>\n",
       "      <td>23186400.0</td>\n",
       "      <td>0</td>\n",
       "    </tr>\n",
       "    <tr>\n",
       "      <th>2</th>\n",
       "      <td>Adult</td>\n",
       "      <td>1.653231e+09</td>\n",
       "      <td>9655013.949</td>\n",
       "      <td>130387117.0</td>\n",
       "      <td>23123655.0</td>\n",
       "      <td>0</td>\n",
       "    </tr>\n",
       "    <tr>\n",
       "      <th>3</th>\n",
       "      <td>Adult</td>\n",
       "      <td>1.653231e+09</td>\n",
       "      <td>9794125.674</td>\n",
       "      <td>132117520.0</td>\n",
       "      <td>24061789.0</td>\n",
       "      <td>0</td>\n",
       "    </tr>\n",
       "    <tr>\n",
       "      <th>4</th>\n",
       "      <td>Adult</td>\n",
       "      <td>1.653231e+09</td>\n",
       "      <td>9847082.163</td>\n",
       "      <td>133697046.0</td>\n",
       "      <td>24281498.0</td>\n",
       "      <td>0</td>\n",
       "    </tr>\n",
       "  </tbody>\n",
       "</table>\n",
       "</div>"
      ],
      "text/plain": [
       "   label     timestamp     duration          pkg        dram  socket\n",
       "0  Adult  1.653231e+09  9983915.060  141723026.0  25520553.0       0\n",
       "1  Adult  1.653231e+09  9737717.851  132242459.0  23186400.0       0\n",
       "2  Adult  1.653231e+09  9655013.949  130387117.0  23123655.0       0\n",
       "3  Adult  1.653231e+09  9794125.674  132117520.0  24061789.0       0\n",
       "4  Adult  1.653231e+09  9847082.163  133697046.0  24281498.0       0"
      ]
     },
     "execution_count": 1,
     "metadata": {},
     "output_type": "execute_result"
    }
   ],
   "source": [
    "import pandas as pd\n",
    "\n",
    "df = pd.read_csv('Data/Energy/Energy_nn.csv') # neural network measurements for synthetic data\n",
    "df.head()"
   ]
  },
  {
   "cell_type": "code",
   "execution_count": 2,
   "id": "2408d722",
   "metadata": {},
   "outputs": [
    {
     "name": "stdout",
     "output_type": "stream",
     "text": [
      "Average duration : 6.548 in seconds\n",
      "Average pkg: 91.907 in Joules\n",
      "Average dram: 15.752 in Joules\n",
      "\n",
      " Total energy used: 107.659\n"
     ]
    }
   ],
   "source": [
    "# convert to seconds and Joules\n",
    "df['duration'] *= (10**-6)\n",
    "df['pkg'] *= (10**-6)\n",
    "df['dram'] *= (10**-6)\n",
    "\n",
    "duration = df['duration'].mean()\n",
    "pkg = df['pkg'].mean()\n",
    "dram = df['dram'].mean()\n",
    "\n",
    "print(f\"Average duration : {round(duration, 3)} in seconds\")\n",
    "print(f\"Average pkg: {round(pkg, 3)} in Joules\")\n",
    "print(f\"Average dram: {round(dram, 3)} in Joules\")\n",
    "print(f\"\\n Total energy used: {round(pkg+dram, 3)}\")"
   ]
  }
 ],
 "metadata": {
  "kernelspec": {
   "display_name": "Python 3 (ipykernel)",
   "language": "python",
   "name": "python3"
  },
  "language_info": {
   "codemirror_mode": {
    "name": "ipython",
    "version": 3
   },
   "file_extension": ".py",
   "mimetype": "text/x-python",
   "name": "python",
   "nbconvert_exporter": "python",
   "pygments_lexer": "ipython3",
   "version": "3.9.10"
  }
 },
 "nbformat": 4,
 "nbformat_minor": 5
}
